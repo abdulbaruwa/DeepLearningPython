{
 "cells": [
  {
   "cell_type": "code",
   "execution_count": 1,
   "metadata": {
    "collapsed": true
   },
   "outputs": [],
   "source": [
    "import numpy\n",
    "\n",
    "# load pima indians dataset\n",
    "dataset = numpy.loadtxt('/home/datadrive/PythonDev/DeepLearningPython/TrainingData/Pimaindiandiabetes', delimiter=',')\n",
    "\n",
    "# split into input (X) and output (Y) variables\n",
    "X = dataset[:, 0:8]\n",
    "Y = dataset[:, 8]"
   ]
  },
  {
   "cell_type": "code",
   "execution_count": 2,
   "metadata": {},
   "outputs": [
    {
     "name": "stdout",
     "output_type": "stream",
     "text": [
      "[  1.     85.     66.     29.      0.     26.6     0.351  31.   ]\n"
     ]
    }
   ],
   "source": [
    "print(X[2])"
   ]
  },
  {
   "cell_type": "code",
   "execution_count": 3,
   "metadata": {},
   "outputs": [
    {
     "name": "stdout",
     "output_type": "stream",
     "text": [
      "0.0\n"
     ]
    }
   ],
   "source": [
    "print(Y[2])"
   ]
  },
  {
   "cell_type": "code",
   "execution_count": 4,
   "metadata": {},
   "outputs": [
    {
     "name": "stdout",
     "output_type": "stream",
     "text": [
      "[   8.     183.      64.       0.       0.      23.3      0.672   32.       1.   ]\n[   8.     183.      64.       0.       0.      23.3      0.672   32.   ]\n1.0\n"
     ]
    }
   ],
   "source": [
    "print(dataset[2])\n",
    "print(X[2])\n",
    "print(Y[2])"
   ]
  },
  {
   "cell_type": "code",
   "execution_count": 1,
   "metadata": {},
   "outputs": [
    {
     "name": "stderr",
     "output_type": "stream",
     "text": [
      "Using TensorFlow backend.\n"
     ]
    }
   ],
   "source": [
    "import numpy\n",
    "from pandas import read_csv\n",
    "from keras.models import Sequential\n",
    "from keras.layers import Dense\n",
    "from keras.wrappers.scikit_learn import KerasClassifier\n",
    "from keras.utils import np_utils\n",
    "from sklearn.model_selection import cross_val_score\n",
    "from sklearn.model_selection import KFold\n",
    "from sklearn.preprocessing import LabelEncoder\n",
    "from sklearn.pipeline import Pipeline\n",
    "\n",
    "\n",
    "seed = 7\n",
    "numpy.random.seed(seed)\n",
    "\n",
    "dataframe = read_csv('/home/datadrive/PythonDev/DeepLearningPython/MulticlassClassification/irisdata', header=None)\n",
    "dataset = dataframe.values\n",
    "# take first 4 items for each row convert to float\n",
    "X = dataset[:, 0:4].astype(float)\n",
    "\n",
    "# take last item - which is the classifier\n",
    "Y = dataset[:, 4]\n",
    "\n",
    "# lets encode the output variables\n",
    "# We reshape from vector that contains values for each class value to; a matrix with a\n",
    "# boolean for each class value. And whether or not a given instance has that class\n",
    "# value or not. 'One hot encoding'\n",
    "# for out classification of:\n",
    "#   Iris-setosa\n",
    "#   Iris-versicolor\n",
    "#   Iris-virginica\n",
    "#\n",
    "# One-hot encoded to\n",
    "#   Iris-setosa,     Iris-versicolor,     Iris-virginica\n",
    "#        1,               0,                     0\n",
    "#        0,               1,                     0\n",
    "#        0,               0,                     1\n",
    "\n",
    "# Encode string to integers using scikit-learn class LabelEncoder\n",
    "# then convert vector of integers to a One-hot encoding using keras 'to_categorical()' function\n",
    "encoder = LabelEncoder()\n",
    "encoder.fit(Y)\n",
    "encoded_Y = encoder.transform(Y)\n",
    "\n",
    "# convert the integers to dummy variables - one-hot encoded\n",
    "dummy_y = np_utils.to_categorical(encoded_Y)"
   ]
  },
  {
   "cell_type": "code",
   "execution_count": 4,
   "metadata": {},
   "outputs": [
    {
     "name": "stdout",
     "output_type": "stream",
     "text": [
      "[[ 1.  0.  0.]\n [ 1.  0.  0.]\n [ 1.  0.  0.]\n [ 1.  0.  0.]\n [ 1.  0.  0.]\n [ 1.  0.  0.]\n [ 1.  0.  0.]\n [ 1.  0.  0.]\n [ 1.  0.  0.]\n [ 1.  0.  0.]\n [ 1.  0.  0.]\n [ 1.  0.  0.]\n [ 1.  0.  0.]\n [ 1.  0.  0.]\n [ 1.  0.  0.]\n [ 1.  0.  0.]\n [ 1.  0.  0.]\n [ 1.  0.  0.]\n [ 1.  0.  0.]\n [ 1.  0.  0.]\n [ 1.  0.  0.]\n [ 1.  0.  0.]\n [ 1.  0.  0.]\n [ 1.  0.  0.]\n [ 1.  0.  0.]\n [ 1.  0.  0.]\n [ 1.  0.  0.]\n [ 1.  0.  0.]\n [ 1.  0.  0.]\n [ 1.  0.  0.]\n [ 1.  0.  0.]\n [ 1.  0.  0.]\n [ 1.  0.  0.]\n [ 1.  0.  0.]\n [ 1.  0.  0.]\n [ 1.  0.  0.]\n [ 1.  0.  0.]\n [ 1.  0.  0.]\n [ 1.  0.  0.]\n [ 1.  0.  0.]\n [ 1.  0.  0.]\n [ 1.  0.  0.]\n [ 1.  0.  0.]\n [ 1.  0.  0.]\n [ 1.  0.  0.]\n [ 1.  0.  0.]\n [ 1.  0.  0.]\n [ 1.  0.  0.]\n [ 1.  0.  0.]\n [ 1.  0.  0.]\n [ 0.  1.  0.]\n [ 0.  1.  0.]\n [ 0.  1.  0.]\n [ 0.  1.  0.]\n [ 0.  1.  0.]\n [ 0.  1.  0.]\n [ 0.  1.  0.]\n [ 0.  1.  0.]\n [ 0.  1.  0.]\n [ 0.  1.  0.]\n [ 0.  1.  0.]\n [ 0.  1.  0.]\n [ 0.  1.  0.]\n [ 0.  1.  0.]\n [ 0.  1.  0.]\n [ 0.  1.  0.]\n [ 0.  1.  0.]\n [ 0.  1.  0.]\n [ 0.  1.  0.]\n [ 0.  1.  0.]\n [ 0.  1.  0.]\n [ 0.  1.  0.]\n [ 0.  1.  0.]\n [ 0.  1.  0.]\n [ 0.  1.  0.]\n [ 0.  1.  0.]\n [ 0.  1.  0.]\n [ 0.  1.  0.]\n [ 0.  1.  0.]\n [ 0.  1.  0.]\n [ 0.  1.  0.]\n [ 0.  1.  0.]\n [ 0.  1.  0.]\n [ 0.  1.  0.]\n [ 0.  1.  0.]\n [ 0.  1.  0.]\n [ 0.  1.  0.]\n [ 0.  1.  0.]\n [ 0.  1.  0.]\n [ 0.  1.  0.]\n [ 0.  1.  0.]\n [ 0.  1.  0.]\n [ 0.  1.  0.]\n [ 0.  1.  0.]\n [ 0.  1.  0.]\n [ 0.  1.  0.]\n [ 0.  1.  0.]\n [ 0.  1.  0.]\n [ 0.  1.  0.]\n [ 0.  1.  0.]\n [ 0.  0.  1.]\n [ 0.  0.  1.]\n [ 0.  0.  1.]\n [ 0.  0.  1.]\n [ 0.  0.  1.]\n [ 0.  0.  1.]\n [ 0.  0.  1.]\n [ 0.  0.  1.]\n [ 0.  0.  1.]\n [ 0.  0.  1.]\n [ 0.  0.  1.]\n [ 0.  0.  1.]\n [ 0.  0.  1.]\n [ 0.  0.  1.]\n [ 0.  0.  1.]\n [ 0.  0.  1.]\n [ 0.  0.  1.]\n [ 0.  0.  1.]\n [ 0.  0.  1.]\n [ 0.  0.  1.]\n [ 0.  0.  1.]\n [ 0.  0.  1.]\n [ 0.  0.  1.]\n [ 0.  0.  1.]\n [ 0.  0.  1.]\n [ 0.  0.  1.]\n [ 0.  0.  1.]\n [ 0.  0.  1.]\n [ 0.  0.  1.]\n [ 0.  0.  1.]\n [ 0.  0.  1.]\n [ 0.  0.  1.]\n [ 0.  0.  1.]\n [ 0.  0.  1.]\n [ 0.  0.  1.]\n [ 0.  0.  1.]\n [ 0.  0.  1.]\n [ 0.  0.  1.]\n [ 0.  0.  1.]\n [ 0.  0.  1.]\n [ 0.  0.  1.]\n [ 0.  0.  1.]\n [ 0.  0.  1.]\n [ 0.  0.  1.]\n [ 0.  0.  1.]\n [ 0.  0.  1.]\n [ 0.  0.  1.]\n [ 0.  0.  1.]\n [ 0.  0.  1.]\n [ 0.  0.  1.]]\n"
     ]
    }
   ],
   "source": [
    "print(dummy_y)"
   ]
  },
  {
   "cell_type": "code",
   "execution_count": null,
   "metadata": {},
   "outputs": [],
   "source": [
    ""
   ]
  }
 ],
 "metadata": {
  "kernelspec": {
   "display_name": "Python 2",
   "language": "python",
   "name": "python2"
  },
  "language_info": {
   "codemirror_mode": {
    "name": "ipython",
    "version": 2.0
   },
   "file_extension": ".py",
   "mimetype": "text/x-python",
   "name": "python",
   "nbconvert_exporter": "python",
   "pygments_lexer": "ipython2",
   "version": "2.7.6"
  }
 },
 "nbformat": 4,
 "nbformat_minor": 0
}