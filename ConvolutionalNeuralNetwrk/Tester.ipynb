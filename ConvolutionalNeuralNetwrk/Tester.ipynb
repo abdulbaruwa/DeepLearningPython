{
 "cells": [
  {
   "cell_type": "code",
   "execution_count": 3,
   "metadata": {
    "collapsed": true
   },
   "outputs": [
    {
     "name": "stderr",
     "output_type": "stream",
     "text": [
      "Using TensorFlow backend.\n"
     ]
    },
    {
     "name": "stdout",
     "output_type": "stream",
     "text": [
      "[[[ 59  43  50 ..., 158 152 148]\n  [ 16   0  18 ..., 123 119 122]\n  [ 25  16  49 ..., 118 120 109]\n  ..., \n  [208 201 198 ..., 160  56  53]\n  [180 173 186 ..., 184  97  83]\n  [177 168 179 ..., 216 151 123]]\n\n [[ 62  46  48 ..., 132 125 124]\n  [ 20   0   8 ...,  88  83  87]\n  [ 24   7  27 ...,  84  84  73]\n  ..., \n  [170 153 161 ..., 133  31  34]\n  [139 123 144 ..., 148  62  53]\n  [144 129 142 ..., 184 118  92]]\n\n [[ 63  45  43 ..., 108 102 103]\n  [ 20   0   0 ...,  55  50  57]\n  [ 21   0   8 ...,  50  50  42]\n  ..., \n  [ 96  34  26 ...,  70   7  20]\n  [ 96  42  30 ...,  94  34  34]\n  [116  94  87 ..., 140  84  72]]]\n"
     ]
    }
   ],
   "source": [
    "import numpy\n",
    "from keras.datasets import cifar10\n",
    "from keras.models import Sequential\n",
    "from keras.layers import Dense\n",
    "from keras.layers import Dropout\n",
    "from keras.layers import Flatten\n",
    "from keras.constraints import maxnorm\n",
    "from keras.optimizers import SGD\n",
    "from keras.layers.convolutional import Conv2D\n",
    "from keras.layers.convolutional import MaxPooling2D\n",
    "from keras.utils import np_utils\n",
    "from keras import backend as K\n",
    "K.set_image_dim_ordering('th')\n",
    "\n",
    "seed = 7\n",
    "numpy.random.seed(seed)\n",
    "\n",
    "# load data\n",
    "(X_train, y_train), (X_test, y_test) = cifar10.load_data()\n",
    "print(X_train[0])"
   ]
  },
  {
   "cell_type": "code",
   "execution_count": null,
   "metadata": {},
   "outputs": [],
   "source": [
    ""
   ]
  }
 ],
 "metadata": {
  "kernelspec": {
   "display_name": "Python 2",
   "language": "python",
   "name": "python2"
  },
  "language_info": {
   "codemirror_mode": {
    "name": "ipython",
    "version": 2.0
   },
   "file_extension": ".py",
   "mimetype": "text/x-python",
   "name": "python",
   "nbconvert_exporter": "python",
   "pygments_lexer": "ipython2",
   "version": "2.7.6"
  }
 },
 "nbformat": 4,
 "nbformat_minor": 0
}